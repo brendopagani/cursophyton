{
  "nbformat": 4,
  "nbformat_minor": 0,
  "metadata": {
    "colab": {
      "provenance": []
    },
    "kernelspec": {
      "name": "python3",
      "display_name": "Python 3"
    },
    "language_info": {
      "name": "python"
    }
  },
  "cells": [
    {
      "cell_type": "markdown",
      "source": [
        "# **Exercício Prático EBAC - Lógica de Programação com Python.**"
      ],
      "metadata": {
        "id": "0PziQGuyCdZM"
      }
    },
    {
      "cell_type": "code",
      "source": [
        "#1 - Utilize o comando ‘input’ para receber ao menos 2 números de entrada do usuário;\n",
        "\n",
        "#2 - Converta os valores recebidos pelo usuário para número inteiro (int) ou ponto flutuante (float);\n",
        "\n",
        "#3 - Implemente ao menos 4 operações matemáticas em seu código;\n",
        "\n",
        "#4 - Adicione um laço de repetição ou uma condicional. Por exemplo: você pode permitir que o usuário escolha qual operação realizar ou criar um loop que permita ao usuário realizar várias operações consecutivas;\n",
        "\n",
        "#5 - Utilize o comando ‘print’ para exibir o resultado da operação matemática.\n",
        "\n",
        "\n",
        "continuar_uso = \"S\"\n",
        "while continuar_uso == \"S\":\n",
        "\n",
        "# Menu com as opções de operações\n",
        "  print('CALCULADORA\\n')\n",
        "  print('+ para Adição')\n",
        "  print('- para Subtração')\n",
        "  print('* para Multiplicação')\n",
        "  print('/ para Divisão')\n",
        "\n",
        "# Interação com o usuário\n",
        "  op = input('\\nDigite a operação desejada: ')\n",
        "  if op != '+' and op != '-' and op != '*' and op != '/':\n",
        "    print('\\nOperação inválida. Tente novamente.\\n')\n",
        "    continue\n",
        "\n",
        "# Entrando com os dados e apresentando as respostas das operações\n",
        "\n",
        "#Adição\n",
        "  elif op == '+':\n",
        "    a1 = float(input('\\nDigite o primeiro número: '))\n",
        "    a2 = float(input('Digite o segundo número: '))\n",
        "    soma = a1 + a2\n",
        "    print('\\nO resultado da operação de SOMA entre:',a1,'e',a2,'é:',soma,'\\n')\n",
        "    print('-'*20)\n",
        "    continuar_uso = input('\\nDeseja realizar outra operação? (S/N): ')\n",
        "    print('\\n','-'*20)\n",
        "\n",
        "#Subtração\n",
        "  elif op == '-':\n",
        "    s1 = float(input('\\nDigite o primeiro número: '))\n",
        "    s2 = float(input('Digite o segundo número: '))\n",
        "    subtracao = s1 - s2\n",
        "    print('\\nO resultado da operação de SUBTRAÇÃO entre:',s1,'e',s2,'é:',subtracao,'\\n')\n",
        "    print('-'*20)\n",
        "    continuar_uso = input('\\nDeseja realizar outra operação? (S/N): ')\n",
        "    print('\\n','-'*20)\n",
        "\n",
        "#Multiplicação\n",
        "  elif op == '*':\n",
        "    m1 = float(input('\\nDigite o primeiro número: '))\n",
        "    m2 = float(input('Digite o segundo número: '))\n",
        "    multiplicacao = m1 * m2\n",
        "    print('\\nO resultado da operação de MULTIPLICAÇÃO entre:',m1,'e',m2,'é:',multiplicacao,'\\n')\n",
        "    print('-'*20)\n",
        "    continuar_uso = input('\\nDeseja realizar outra operação? (S/N): ')\n",
        "    print('\\n','-'*20)\n",
        "\n",
        "#Divisão\n",
        "  elif op == '/':\n",
        "    d1 = float(input('\\nDigite o primeiro número: '))\n",
        "    d2 = float(input('Digite o segundo número: '))\n",
        "    if d2 == 0:\n",
        "      print('\\nNão é possível dividir por zero.\\n')\n",
        "    else:\n",
        "      divisao = d1 / d2\n",
        "      print('\\nO resultado da operação de DIVISÃO entre:',d1,'e',d2,'é:',divisao,'\\n')\n",
        "      print('-'*20)\n",
        "      continuar_uso = input('\\nDeseja realizar outra operação? (S/N): ')\n",
        "      print('\\n','-'*20)\n",
        "\n",
        "  if continuar_uso == \"N\":\n",
        "    print('\\nObrigado por utilizar a calculadora!')\n",
        "\n",
        "    break\n",
        "\n",
        "\n",
        "\n",
        "\n",
        "\n",
        "\n",
        "\n",
        "\n",
        "\n",
        "\n",
        "\n",
        "\n",
        "\n",
        "\n",
        "\n",
        "\n",
        "\n",
        "\n",
        "\n",
        "\n",
        "\n",
        "\n",
        "\n",
        "\n",
        "\n",
        "\n"
      ],
      "metadata": {
        "id": "dJYrCPt2CiCL"
      },
      "execution_count": null,
      "outputs": []
    },
    {
      "cell_type": "code",
      "source": [],
      "metadata": {
        "id": "-89PueClQSao"
      },
      "execution_count": null,
      "outputs": []
    }
  ]
}